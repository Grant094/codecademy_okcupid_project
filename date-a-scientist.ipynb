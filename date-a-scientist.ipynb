{
 "cells": [
  {
   "cell_type": "code",
   "execution_count": 1,
   "metadata": {},
   "outputs": [],
   "source": [
    "import pandas as pd\n",
    "\n",
    "# Download file from https://drive.google.com/file/d/10aZF97UPMUChScEQ0jGug9gs5M8pdzxA/view?usp=drive_link and save in the same directory as this notebook\n",
    "\n",
    "df = pd.read_csv('profiles.csv')"
   ]
  },
  {
   "cell_type": "code",
   "execution_count": 2,
   "metadata": {},
   "outputs": [],
   "source": [
    "pd.set_option('display.max_columns', None)"
   ]
  },
  {
   "cell_type": "markdown",
   "metadata": {},
   "source": [
    "# Problem to Solve\n",
    "Out of almost 60,000 rows, only 19,921 have values for \"Pets\". If we could predict whether a user likes or dislikes dogs or cats, it could help determine compatibility with other users."
   ]
  },
  {
   "cell_type": "code",
   "execution_count": 3,
   "metadata": {},
   "outputs": [
    {
     "name": "stdout",
     "output_type": "stream",
     "text": [
      "Total 59946\n",
      "offspring 35561\n",
      "diet 24395\n",
      "religion 20226\n",
      "pets 19921\n",
      "essay8 19225\n",
      "drugs 14080\n",
      "essay6 13771\n",
      "essay9 12603\n",
      "essay7 12451\n",
      "essay3 11476\n",
      "sign 11056\n",
      "essay5 10850\n",
      "essay4 10537\n",
      "essay2 9638\n",
      "job 8198\n",
      "essay1 7572\n",
      "education 6628\n",
      "ethnicity 5680\n",
      "smokes 5512\n",
      "essay0 5488\n",
      "body_type 5296\n",
      "drinks 2985\n",
      "speaks 50\n",
      "height 3\n",
      "age 0\n",
      "income 0\n",
      "last_online 0\n",
      "location 0\n",
      "orientation 0\n",
      "sex 0\n",
      "status 0\n"
     ]
    }
   ],
   "source": [
    "isna_sums = []\n",
    "\n",
    "print(\"Total\", len(df))\n",
    "\n",
    "for col in df.columns:\n",
    "    isna_sum = df[col].isna().sum()\n",
    "    isna_sums.append([col, isna_sum])\n",
    "\n",
    "isna_sums_sorted = sorted(isna_sums, key=lambda x: x[1], reverse=True)\n",
    "\n",
    "for item in isna_sums_sorted:\n",
    "    print(item[0], item[1])"
   ]
  },
  {
   "cell_type": "markdown",
   "metadata": {},
   "source": [
    "# Converting Values\n",
    "\n",
    "To make a model, we will need to convert values from various cells into numeric data."
   ]
  },
  {
   "cell_type": "markdown",
   "metadata": {},
   "source": [
    "## Converting Target Values\n",
    "\n",
    "There are 15 different values for the `pets` column in the dataset, but they can be grouped. Some values say the user likes dogs or cats, some say the user has dogs or cats, some say they dislike dogs or cats, and some only give this info for either dogs or cats. We can assume that users that have dogs like dogs, and we interpret no mention of dogs to mean we do not know for that user.\n",
    "\n",
    "As such, we can convert any value that says the user likes or has dogs to `1`, any value that says they dislike dogs to `0`, and all remaining values becoming `NaN` to be classified later."
   ]
  },
  {
   "cell_type": "code",
   "execution_count": 4,
   "metadata": {},
   "outputs": [
    {
     "data": {
      "text/plain": [
       "pets\n",
       "likes dogs and likes cats          14814\n",
       "likes dogs                          7224\n",
       "likes dogs and has cats             4313\n",
       "has dogs                            4134\n",
       "has dogs and likes cats             2333\n",
       "likes dogs and dislikes cats        2029\n",
       "has dogs and has cats               1474\n",
       "has cats                            1406\n",
       "likes cats                          1063\n",
       "has dogs and dislikes cats           552\n",
       "dislikes dogs and likes cats         240\n",
       "dislikes dogs and dislikes cats      196\n",
       "dislikes cats                        122\n",
       "dislikes dogs and has cats            81\n",
       "dislikes dogs                         44\n",
       "Name: count, dtype: int64"
      ]
     },
     "execution_count": 4,
     "metadata": {},
     "output_type": "execute_result"
    }
   ],
   "source": [
    "df['pets'].value_counts()"
   ]
  },
  {
   "cell_type": "code",
   "execution_count": 5,
   "metadata": {},
   "outputs": [],
   "source": [
    "import numpy as np\n",
    "\n",
    "def likes_dogs(row):\n",
    "    if not isinstance(row['pets'], str):\n",
    "        return np.nan\n",
    "\n",
    "    if 'dislikes dogs' in row['pets']:\n",
    "        return 0\n",
    "    elif 'likes dogs' in row['pets']:\n",
    "        return 1\n",
    "    elif 'has dogs' in row['pets']:\n",
    "        return 1\n",
    "    else:\n",
    "        return np.nan\n",
    "\n",
    "df['likes_dogs'] = df.apply(likes_dogs, axis=1)"
   ]
  },
  {
   "cell_type": "code",
   "execution_count": 6,
   "metadata": {},
   "outputs": [
    {
     "data": {
      "text/plain": [
       "likes_dogs\n",
       "1.0    36873\n",
       "0.0      561\n",
       "Name: count, dtype: int64"
      ]
     },
     "execution_count": 6,
     "metadata": {},
     "output_type": "execute_result"
    }
   ],
   "source": [
    "df['likes_dogs'].value_counts()"
   ]
  },
  {
   "cell_type": "markdown",
   "metadata": {},
   "source": [
    "## Dropping Some Columns\n",
    "\n",
    "Some columns are not very helpful for this binary classification, so we will drop them."
   ]
  },
  {
   "cell_type": "markdown",
   "metadata": {},
   "source": [
    "### essay\n",
    "\n",
    "An analysis of the text in each essay cell could be useful, but is outside the scope of this study. As such, we will drop all essay columns."
   ]
  },
  {
   "cell_type": "code",
   "execution_count": 7,
   "metadata": {},
   "outputs": [],
   "source": [
    "columns_to_drop = list(df.filter(regex='essay').columns)\n",
    "\n",
    "df = df.drop(columns_to_drop, axis=1)"
   ]
  },
  {
   "cell_type": "markdown",
   "metadata": {},
   "source": [
    "### drinks\n",
    "\n",
    "Most values for drinks can fit along a linear scale, but \"socially\" could fit anywhere inside the extremes, and it represents most of the responses to the question. We could combine all options besides \"not at all\" and do a binary conversion between \"drinks any\" and \"not at all\", but only 5.7% of the answers are \"not at all\", so that will not be very helpful. As such, we will drop this column.\n",
    "\n",
    "### last_online\n",
    "`last_online` just tells us about when we took a snapshot of this data, so it is not helpful either.\n",
    "\n",
    "### status\n",
    "\n",
    "Looking at the possible values of status, I am unsure what the differences are, and more than 93% of the answers are \"single\", we will drop this column."
   ]
  },
  {
   "cell_type": "code",
   "execution_count": 8,
   "metadata": {},
   "outputs": [],
   "source": [
    "df = df.drop(['drinks', 'last_online', 'status'], axis=1)"
   ]
  },
  {
   "cell_type": "markdown",
   "metadata": {},
   "source": [
    "## Converting Feature Values\n",
    "\n",
    "Many of the columns in the dataset have different string values that need to be converted to integers for our model to work."
   ]
  },
  {
   "cell_type": "markdown",
   "metadata": {},
   "source": [
    "### diet\n",
    "\n",
    "The 'diet' column represents two variables: type (vegan, kosher, etc.) and strictness (strictly, mostly). It could more helpful to separate these two variables into separate columns, so I will do so."
   ]
  },
  {
   "cell_type": "code",
   "execution_count": 9,
   "metadata": {},
   "outputs": [
    {
     "data": {
      "text/plain": [
       "diet\n",
       "mostly anything        16585\n",
       "anything                6183\n",
       "strictly anything       5113\n",
       "mostly vegetarian       3444\n",
       "mostly other            1007\n",
       "strictly vegetarian      875\n",
       "vegetarian               667\n",
       "strictly other           452\n",
       "mostly vegan             338\n",
       "other                    331\n",
       "strictly vegan           228\n",
       "vegan                    136\n",
       "mostly kosher             86\n",
       "mostly halal              48\n",
       "strictly halal            18\n",
       "strictly kosher           18\n",
       "halal                     11\n",
       "kosher                    11\n",
       "Name: count, dtype: int64"
      ]
     },
     "execution_count": 9,
     "metadata": {},
     "output_type": "execute_result"
    }
   ],
   "source": [
    "df['diet'].value_counts()"
   ]
  },
  {
   "cell_type": "code",
   "execution_count": 10,
   "metadata": {},
   "outputs": [],
   "source": [
    "def restriction(row):\n",
    "    if not isinstance(row['diet'], str):\n",
    "        return np.nan\n",
    "    \n",
    "    if 'anything' in row['diet']:\n",
    "        return 'anything'\n",
    "    elif 'vegetarian' in row['diet']:\n",
    "        return 'vegetarian'\n",
    "    elif 'vegan' in row['diet']:\n",
    "        return 'vegan'\n",
    "    elif 'kosher' in row['diet']:\n",
    "        return 'kosher'\n",
    "    elif 'halal' in row['diet']:\n",
    "        return 'halal'\n",
    "    elif 'other' in row['diet']:\n",
    "        return 'other'\n",
    "    else:\n",
    "        return np.nan\n",
    "\n",
    "df['diet_type'] = df.apply(restriction, axis=1)"
   ]
  },
  {
   "cell_type": "code",
   "execution_count": 11,
   "metadata": {},
   "outputs": [
    {
     "data": {
      "text/plain": [
       "diet_type\n",
       "anything      27881\n",
       "vegetarian     4986\n",
       "other          1790\n",
       "vegan           702\n",
       "kosher          115\n",
       "halal            77\n",
       "Name: count, dtype: int64"
      ]
     },
     "execution_count": 11,
     "metadata": {},
     "output_type": "execute_result"
    }
   ],
   "source": [
    "df['diet_type'].value_counts()"
   ]
  },
  {
   "cell_type": "markdown",
   "metadata": {},
   "source": [
    "The diet type will need to be handled by one-hot encoding (covered later), but the strictness can fit along a numeric scale, so we will convert the cell to such a scale."
   ]
  },
  {
   "cell_type": "code",
   "execution_count": 12,
   "metadata": {},
   "outputs": [],
   "source": [
    "def strictness(row):\n",
    "    if not isinstance(row['diet'], str):\n",
    "        return np.nan\n",
    "\n",
    "    if 'strictly' in row['diet']:\n",
    "        return 2\n",
    "    elif 'mostly' in row['diet']:\n",
    "        return 1\n",
    "    else:\n",
    "        return 0\n",
    "\n",
    "df['diet_strictness'] = df.apply(strictness, axis=1)"
   ]
  },
  {
   "cell_type": "code",
   "execution_count": 13,
   "metadata": {},
   "outputs": [
    {
     "data": {
      "text/plain": [
       "diet_strictness\n",
       "1.0    21508\n",
       "0.0     7339\n",
       "2.0     6704\n",
       "Name: count, dtype: int64"
      ]
     },
     "execution_count": 13,
     "metadata": {},
     "output_type": "execute_result"
    }
   ],
   "source": [
    "df['diet_strictness'].value_counts()"
   ]
  },
  {
   "cell_type": "markdown",
   "metadata": {},
   "source": [
    "### drugs\n",
    "\n",
    "The drugs column only has three values: 'never', 'sometimes', and 'often', which we can easily fit along a numeric scale."
   ]
  },
  {
   "cell_type": "code",
   "execution_count": 14,
   "metadata": {},
   "outputs": [],
   "source": [
    "def drugs(row):\n",
    "    if not isinstance(row['drugs'], str):\n",
    "        return np.nan\n",
    "\n",
    "    if 'never' == row['drugs']:\n",
    "        return 0\n",
    "    elif 'sometimes' == row['drugs']:\n",
    "        return 1\n",
    "    elif 'often' == row['drugs']:\n",
    "        return 2\n",
    "\n",
    "df['drugs'] = df.apply(drugs, axis=1)"
   ]
  },
  {
   "cell_type": "markdown",
   "metadata": {},
   "source": [
    "### education\n",
    "\n",
    "There are a lot of different values for education, several of which can overlap. To effectively differentiate, we will group the users into the following groups: 'did not complete high school', 'did not complete college (assumed to complete high school)', 'no degree beyond college (undergraduate)', 'degree beyond undergraduate'.\n",
    "\n",
    "We will represent these on a scale from 0 (\"did not complete high school\") to 3 (\"degree beyond undergraduate\")\n",
    "\n",
    "A note on \"space camp\": it is outside of the path of traditional education, so anyone who gave that answer will be excluded from this study."
   ]
  },
  {
   "cell_type": "code",
   "execution_count": 15,
   "metadata": {},
   "outputs": [],
   "source": [
    "primary = [\n",
    "    'dropped out of high school',\n",
    "    'working on high school'\n",
    "]\n",
    "secondary = [\n",
    "    'working on college/university',\n",
    "    'graduated from two-year college',\n",
    "    'graduated from high school',\n",
    "    'working on two-year college',\n",
    "    'dropped out of college/university',\n",
    "    'two-year college',\n",
    "    'dropped out of two-year college',\n",
    "    'high school'\n",
    "]\n",
    "undergrad = [\n",
    "    'graduated from college/university',\n",
    "    'working on masters program',\n",
    "    'college/university',\n",
    "    'working on ph.d program',\n",
    "    'working on law school',\n",
    "    'working on med school',\n",
    "    'dropped out of masters program',\n",
    "    'dropped out of ph.d program',\n",
    "    'dropped out of law school',\n",
    "    'dropped out of med school',\n",
    "]\n",
    "advanced = [\n",
    "    'graduated from masters program',\n",
    "    'graduated from ph.d program',\n",
    "    'graduated from law school',\n",
    "    'graduated from med school',\n",
    "    'masters program',\n",
    "    'ph.d program',\n",
    "    'law school',\n",
    "    'med school'\n",
    "]\n",
    "\n",
    "def education(row):\n",
    "    if not isinstance(row['education'], (str, int, float)):\n",
    "        return np.nan\n",
    "\n",
    "    if row['education'] in primary:\n",
    "        return 0\n",
    "    elif row['education'] in secondary:\n",
    "        return 1\n",
    "    elif row['education'] in undergrad:\n",
    "        return 2\n",
    "    elif row['education'] in advanced:\n",
    "        return 3\n",
    "    else:\n",
    "        return np.nan\n",
    "\n",
    "df['education'] = df.apply(education, axis=1)"
   ]
  },
  {
   "cell_type": "markdown",
   "metadata": {},
   "source": [
    "### ethnicity\n",
    "\n",
    "To align ethnicity with our classification model, we will change the column to either say a single ethnicity or \"two or more\". This can be easily filtered by checking whether the original cell has a comma (,) in it."
   ]
  },
  {
   "cell_type": "code",
   "execution_count": 16,
   "metadata": {},
   "outputs": [],
   "source": [
    "def ethnicity(row):\n",
    "    if not isinstance(row['ethnicity'], str):\n",
    "        return np.nan\n",
    "\n",
    "    if ',' in row['ethnicity']:\n",
    "        return \"two or more\"\n",
    "    else:\n",
    "        return row['ethnicity']\n",
    "\n",
    "df['ethnicity'] = df.apply(ethnicity, axis=1)"
   ]
  },
  {
   "cell_type": "markdown",
   "metadata": {},
   "source": [
    "### income\n",
    "\n",
    "Income values are already numbers, which is good, but many of them are \"-1\". This could mean either less than $20,000, since that is the next lowest value, or it could mean it was not provided. Either way, we will say that any income listed as \"-1\" is actually \"0\" for our model to work."
   ]
  },
  {
   "cell_type": "code",
   "execution_count": 17,
   "metadata": {},
   "outputs": [],
   "source": [
    "def income(row):\n",
    "    if not isinstance(row['income'], (int, float)):\n",
    "        return np.nan\n",
    "\n",
    "    if row['income'] < 0:\n",
    "        return 0\n",
    "    else:\n",
    "        return row['income']\n",
    "\n",
    "df['income'] = df.apply(income, axis=1)"
   ]
  },
  {
   "cell_type": "markdown",
   "metadata": {},
   "source": [
    "### location\n",
    "More than 99% of the rows are in california, so we will actually remove all other rows and focus this study on people in California."
   ]
  },
  {
   "cell_type": "code",
   "execution_count": 18,
   "metadata": {},
   "outputs": [],
   "source": [
    "df = df[df['location'].str.find('california') >= 0]"
   ]
  },
  {
   "cell_type": "markdown",
   "metadata": {},
   "source": [
    "### offspring"
   ]
  },
  {
   "cell_type": "markdown",
   "metadata": {},
   "source": [
    "For offspring, first we can clean up the use of the word \"doesn't\", which is listed as `doesn&rsquo;t`."
   ]
  },
  {
   "cell_type": "code",
   "execution_count": 19,
   "metadata": {},
   "outputs": [],
   "source": [
    "def fix_does_not_in_offspring(row):\n",
    "    if not isinstance(row['offspring'], str):\n",
    "        return row['offspring']\n",
    "\n",
    "    if row['offspring'].find(\"doesn&rsquo;t\") == -1:\n",
    "        return row['offspring']\n",
    "\n",
    "    return row['offspring'].replace(\"doesn&rsquo;t\", \"does not\")\n",
    "\n",
    "df['offspring'] = df.apply(fix_does_not_in_offspring, axis=1)"
   ]
  },
  {
   "cell_type": "markdown",
   "metadata": {},
   "source": [
    "The offspring column contains multiple pieces of information. It says whether the user has 0, 1, or more than 1 kid; it says for current parents whether they want, might want, or do not want more kids; and it says for non-parents whether they want, might want, or do not want any kids."
   ]
  },
  {
   "cell_type": "markdown",
   "metadata": {},
   "source": [
    "For this analysis, we will combine all forms of new procreation into a variable which says whether the user wants to, might want to, or does not want to procreate."
   ]
  },
  {
   "cell_type": "code",
   "execution_count": 20,
   "metadata": {},
   "outputs": [
    {
     "name": "stdout",
     "output_type": "stream",
     "text": [
      "procreation\n",
      "no       4765\n",
      "maybe    4398\n",
      "yes      3873\n",
      "Name: count, dtype: int64\n"
     ]
    }
   ],
   "source": [
    "yes_procreation_values = [\n",
    "    'does not have kids, but wants them',\n",
    "    'wants kids',\n",
    "    'has a kid, and wants more',\n",
    "    'has kids, and wants more'\n",
    "]\n",
    "maybe_procreation_values = [\n",
    "    'does not have kids, but might want them',\n",
    "    'has a kid, and might want more',\n",
    "    'might want kids',\n",
    "    'has kids, and might want more'\n",
    "]\n",
    "no_procreation_values = [\n",
    "    'does not want kids',\n",
    "    'does not have kids, and does not want any',\n",
    "    'has kids, but does not want more',\n",
    "    'has a kid, but does not want more',\n",
    "]\n",
    "\n",
    "def procreation(row):\n",
    "    if not isinstance(row['offspring'], str):\n",
    "        return row['offspring']\n",
    "\n",
    "    if any(value == row['offspring'] for value in yes_procreation_values):\n",
    "        return 'yes'\n",
    "    elif any(value == row['offspring'] for value in maybe_procreation_values):\n",
    "        return 'maybe'\n",
    "    elif any(value == row['offspring'] for value in no_procreation_values):\n",
    "        return 'no'\n",
    "    else:\n",
    "        return np.nan\n",
    "\n",
    "df['procreation'] = df.apply(procreation, axis=1)\n",
    "\n",
    "print(df['procreation'].value_counts())"
   ]
  },
  {
   "cell_type": "markdown",
   "metadata": {},
   "source": [
    "We can then convert procreation to a numeric scale, from 0 to 2."
   ]
  },
  {
   "cell_type": "code",
   "execution_count": 21,
   "metadata": {},
   "outputs": [],
   "source": [
    "def procreation_int(row):\n",
    "    if not isinstance(row['procreation'], str):\n",
    "        return np.nan\n",
    "\n",
    "    if row['procreation'] == 'no':\n",
    "        return 0\n",
    "    elif row['procreation'] == 'maybe':\n",
    "        return 1\n",
    "    elif row['procreation'] == 'yes':\n",
    "        return 2\n",
    "\n",
    "df['procreation_int'] = df.apply(procreation_int, axis=1)"
   ]
  },
  {
   "cell_type": "markdown",
   "metadata": {},
   "source": [
    "We can also create a variable for how many kids a user has. We will assume that for the values `wants kids` and `might want kids` that the user does not have any kids currently. Further, since we only know if the user has 0, 1, or 2 or more kids, we will represent all numbers of kids > 2 as 2."
   ]
  },
  {
   "cell_type": "code",
   "execution_count": 22,
   "metadata": {},
   "outputs": [],
   "source": [
    "zero_kids_values = [\n",
    "    'does not have kids',\n",
    "    'does not have kids, but might want them',\n",
    "    'does not have kids, but wants them',\n",
    "    'does not want kids',\n",
    "    'does not have kids, and does not want any',\n",
    "    'wants kids',\n",
    "    'might want kids'\n",
    "]\n",
    "\n",
    "one_kid_values = [\n",
    "    'has a kid',\n",
    "    'has a kid, but does not want more',\n",
    "    'has a kid, and might want more',\n",
    "    'has a kid, and wants more'\n",
    "]\n",
    "\n",
    "two_kids_values = [\n",
    "    'has kids',\n",
    "    'has kids, but does not want more',\n",
    "    'has kids, and might want more',\n",
    "    'has kids, and wants more'\n",
    "]\n",
    "\n",
    "def num_kids(row):\n",
    "    if not isinstance(row['offspring'], str):\n",
    "        return np.nan\n",
    "\n",
    "    if any(value == row['offspring'] for value in zero_kids_values):\n",
    "        return 0\n",
    "    elif any(value == row['offspring'] for value in one_kid_values):\n",
    "        return 1\n",
    "    elif any(value == row['offspring'] for value in two_kids_values):\n",
    "        return 2\n",
    "\n",
    "df['num_kids'] = df.apply(num_kids, axis=1)"
   ]
  },
  {
   "cell_type": "markdown",
   "metadata": {},
   "source": [
    "### religion\n",
    "\n",
    "The religion column also has two pieces of information in it, the religious identity itself and how seriously the user takes it. We can split the column into two columns of that information.\n",
    "\n",
    "Since we do not know whether all Catholics chose \"catholicism\" or if some chose \"christianity\", we will be combining \"catholicism\" and \"christianity\" into \"christianity\"."
   ]
  },
  {
   "cell_type": "code",
   "execution_count": 23,
   "metadata": {},
   "outputs": [],
   "source": [
    "def religion_classification(row):\n",
    "    if not isinstance(row['religion'], str):\n",
    "        return np.nan\n",
    "\n",
    "    if 'agnosticism' in row['religion']:\n",
    "        return 'agnosticism'\n",
    "    elif 'catholicism' in row['religion']:\n",
    "        return 'christianity'\n",
    "    elif 'atheism' in row['religion']:\n",
    "        return 'atheism'\n",
    "    elif 'christianity' in row['religion']:\n",
    "        return 'christianity'\n",
    "    elif 'judaism' in row['religion']:\n",
    "        return 'judaism'\n",
    "    elif 'buddhism' in row['religion']:\n",
    "        return 'buddhism'\n",
    "    elif 'hinduism' in row['religion']:\n",
    "        return 'hinduism'\n",
    "    elif 'islam' in row['religion']:\n",
    "        return 'islam'\n",
    "    elif 'other' in row['religion']:\n",
    "        return 'other'\n",
    "    else:\n",
    "        return np.nan\n",
    "\n",
    "df['religion_classification'] = df.apply(religion_classification, axis=1)"
   ]
  },
  {
   "cell_type": "code",
   "execution_count": 24,
   "metadata": {},
   "outputs": [],
   "source": [
    "def religion_seriousness(row):\n",
    "    if not isinstance(row['religion'], str):\n",
    "        return np.nan\n",
    "\n",
    "    if 'very serious about it' in row['religion']:\n",
    "        return 3\n",
    "    elif 'somewhat serious about it' in row['religion']:\n",
    "        return 2\n",
    "    elif 'not too serious about it' in row['religion']:\n",
    "        return 1\n",
    "    elif 'laughing about it' in row['religion']:\n",
    "        return 0\n",
    "    else:\n",
    "        return np.nan\n",
    "\n",
    "df['religion_seriousness'] = df.apply(religion_seriousness, axis=1)"
   ]
  },
  {
   "cell_type": "markdown",
   "metadata": {},
   "source": [
    "### sex\n",
    "\n",
    "Sex has only two values, so we can assign 0 and 1. In this case, 'm' will be 0 and 'f' will be 1"
   ]
  },
  {
   "cell_type": "code",
   "execution_count": 25,
   "metadata": {},
   "outputs": [],
   "source": [
    "def sex_bin(row):\n",
    "    if row['sex'] == 'm':\n",
    "        return 0\n",
    "    elif row['sex'] == 'f':\n",
    "        return 1\n",
    "    else:\n",
    "        return np.nan\n",
    "\n",
    "df['sex_bin'] = df.apply(sex_bin, axis=1)"
   ]
  },
  {
   "cell_type": "markdown",
   "metadata": {},
   "source": [
    "### sign\n",
    "\n",
    "`sign` also has two pieces of information, a user's zodiac sign and how much it matters to them. We can create two columns for this information."
   ]
  },
  {
   "cell_type": "markdown",
   "metadata": {},
   "source": [
    "The first column will be a user's zodiac sign, which will be one-hot encoded later."
   ]
  },
  {
   "cell_type": "code",
   "execution_count": 26,
   "metadata": {},
   "outputs": [],
   "source": [
    "def sign_itself(row):\n",
    "    if not isinstance(row['sign'], str):\n",
    "        return np.nan\n",
    "\n",
    "    signs = ['aquarius', 'aries', 'cancer', 'capricorn', 'gemini', 'leo', 'libra', 'pisces', 'sagittarius', 'scorpio', 'taurus', 'virgo']\n",
    "\n",
    "    for sign in signs:\n",
    "        if sign in row['sign']:\n",
    "            return sign\n",
    "    return np.nan\n",
    "\n",
    "df['sign_itself'] = df.apply(sign_itself, axis=1)"
   ]
  },
  {
   "cell_type": "markdown",
   "metadata": {},
   "source": [
    "The second column will be how much a user's zodiac sign matters to them. This will be on a scale of 0 to 2, given that there are 3 possible answers."
   ]
  },
  {
   "cell_type": "code",
   "execution_count": 27,
   "metadata": {},
   "outputs": [],
   "source": [
    "def sign_importance(row):\n",
    "    if not isinstance(row['sign'], str):\n",
    "        return np.nan\n",
    "\n",
    "    if 'but it doesn&rsquo;t matter' in row['sign']:\n",
    "        return 0\n",
    "    elif 'and it&rsquo;s fun to think about' in row['sign']:\n",
    "        return 1\n",
    "    elif 'and it matters a lot' in row['sign']:\n",
    "        return 2\n",
    "    else:\n",
    "        return np.nan\n",
    "\n",
    "df['sign_importance'] = df.apply(sign_importance, axis=1)"
   ]
  },
  {
   "cell_type": "markdown",
   "metadata": {},
   "source": [
    "### smokes\n",
    "\n",
    "Smokes has 5 possible values. since most of the values are \"no\", we can combine all variations of \"yes\" into \"yes\" and treat this as a binary classification."
   ]
  },
  {
   "cell_type": "code",
   "execution_count": 28,
   "metadata": {},
   "outputs": [],
   "source": [
    "def smokes(row):\n",
    "    if not isinstance (row['smokes'], str):\n",
    "        return np.nan\n",
    "\n",
    "    if row['smokes'] == 'no':\n",
    "        return 0\n",
    "    elif row['smokes'] in ['sometimes', 'when drinking', 'yes', 'trying to quit']:\n",
    "        return 1\n",
    "    else:\n",
    "        return np.nan\n",
    "\n",
    "df['smokes_bin'] = df.apply(smokes, axis=1)"
   ]
  },
  {
   "cell_type": "markdown",
   "metadata": {},
   "source": [
    "### speaks\n",
    "\n",
    "`speaks` is a complicated one for our dataset since many people list speaking more than one language, and some list several languages along a spectrum from poorly to fluently.\n",
    "\n",
    "For this exercise, we will limit our approach to whether the user fluently speaks English. It is assumed that if the user only selected \"English\" and did not qualify it, they are fluent in English."
   ]
  },
  {
   "cell_type": "code",
   "execution_count": 29,
   "metadata": {},
   "outputs": [],
   "source": [
    "def speaks_english_fluently(row):\n",
    "    if not isinstance(row['speaks'], str):\n",
    "        return np.nan\n",
    "\n",
    "    return int('english (fluently)' in row['speaks'] or 'english' == row['speaks'])\n",
    "\n",
    "df['speaks_english_fluently'] = df.apply(speaks_english_fluently, axis=1)"
   ]
  },
  {
   "cell_type": "markdown",
   "metadata": {},
   "source": [
    "## One-Hot Encoding\n",
    "\n",
    "Multiple columns in the original dataset can be made usable simply by one-hot encoding their possible values."
   ]
  },
  {
   "cell_type": "code",
   "execution_count": 30,
   "metadata": {},
   "outputs": [],
   "source": [
    "df = pd.get_dummies(\n",
    "    df, \n",
    "    columns=['body_type', 'diet_type', 'job', 'orientation', 'ethnicity', 'education', 'religion_classification', 'sign_itself'], \n",
    "    dtype=int)"
   ]
  },
  {
   "cell_type": "markdown",
   "metadata": {},
   "source": [
    "## Dropping Re-Encoded Columns\n",
    "\n",
    "Now that we have encoded everything the way we want it, we can drop the columns that were re-encoded another way."
   ]
  },
  {
   "cell_type": "code",
   "execution_count": 31,
   "metadata": {},
   "outputs": [],
   "source": [
    "df = df.drop(['diet', 'location', 'offspring', 'procreation', 'religion', 'sex', 'sign', 'smokes', 'speaks', 'pets'], axis=1)"
   ]
  },
  {
   "cell_type": "markdown",
   "metadata": {},
   "source": [
    "## Dropping High `NaN` Columns\n",
    "\n",
    "Some columns have a lot of `NaN` values, and since we cannot use rows with those values in our model, we will drop those columns so we can use the rest of the data in those rows."
   ]
  },
  {
   "cell_type": "code",
   "execution_count": 32,
   "metadata": {},
   "outputs": [
    {
     "name": "stdout",
     "output_type": "stream",
     "text": [
      "drugs :  14057\n",
      "height :  2\n",
      "likes_dogs :  22476\n",
      "diet_strictness :  24360\n",
      "procreation_int :  46819\n",
      "num_kids :  35511\n",
      "religion_seriousness :  31956\n",
      "sign_importance :  23142\n",
      "smokes_bin :  5505\n",
      "speaks_english_fluently :  50\n"
     ]
    }
   ],
   "source": [
    "for col in df.columns:\n",
    "    col_isna_sum = df[col].isna().sum()\n",
    "    if col_isna_sum > 0:\n",
    "        print(col, \": \", col_isna_sum)"
   ]
  },
  {
   "cell_type": "markdown",
   "metadata": {},
   "source": [
    "We will keep the \"likes_dogs\" column since that is what we are investigating. Since the \"height\" and \"speaks_english_fluently\" columns have less than 100 `NaN` values each, we will keep those columns as well."
   ]
  },
  {
   "cell_type": "code",
   "execution_count": 33,
   "metadata": {},
   "outputs": [],
   "source": [
    "df = df.drop(['drugs', 'diet_strictness', 'procreation_int', 'num_kids', 'religion_seriousness', 'sign_importance', 'smokes_bin'], axis=1)"
   ]
  },
  {
   "cell_type": "markdown",
   "metadata": {},
   "source": [
    "## Dropping `NaN` Rows\n",
    "\n",
    "Some rows will have `NaN` in one or more cells. All of those rows need to be removed to generate the model."
   ]
  },
  {
   "cell_type": "code",
   "execution_count": 34,
   "metadata": {},
   "outputs": [],
   "source": [
    "df = df.dropna()"
   ]
  },
  {
   "cell_type": "markdown",
   "metadata": {},
   "source": [
    "# Building a Model\n",
    "\n",
    "Now that we have categorized users we can into those that like dogs and those that do not, we can build our model to predict whether a user has a dog based on other factors.\n",
    "\n",
    "To predict, based on many factors, whether a given user likes dogs or not, we will use a Logistic Regression model."
   ]
  },
  {
   "cell_type": "code",
   "execution_count": 35,
   "metadata": {},
   "outputs": [
    {
     "data": {
      "text/plain": [
       "likes_dogs\n",
       "1.0    36802\n",
       "0.0      560\n",
       "Name: count, dtype: int64"
      ]
     },
     "execution_count": 35,
     "metadata": {},
     "output_type": "execute_result"
    }
   ],
   "source": [
    "df['likes_dogs'].value_counts()"
   ]
  },
  {
   "cell_type": "code",
   "execution_count": 36,
   "metadata": {},
   "outputs": [],
   "source": [
    "## Separate out X and y\n",
    "y = df['likes_dogs']\n",
    "X = df[df.columns[df.columns!='likes_dogs']]"
   ]
  },
  {
   "cell_type": "code",
   "execution_count": 37,
   "metadata": {},
   "outputs": [],
   "source": [
    "# Transform X\n",
    "from sklearn.preprocessing import StandardScaler\n",
    "scaler = StandardScaler()\n",
    "scaler.fit(X)\n",
    "X = scaler.transform(X)"
   ]
  },
  {
   "cell_type": "code",
   "execution_count": 38,
   "metadata": {},
   "outputs": [],
   "source": [
    "# Split data into training and testing sets\n",
    "from sklearn.model_selection import train_test_split\n",
    "X_train, X_test, y_train, y_test = train_test_split(X, y, test_size=0.2, random_state = 42)"
   ]
  },
  {
   "cell_type": "code",
   "execution_count": 39,
   "metadata": {},
   "outputs": [
    {
     "data": {
      "text/html": [
       "<style>#sk-container-id-1 {\n",
       "  /* Definition of color scheme common for light and dark mode */\n",
       "  --sklearn-color-text: #000;\n",
       "  --sklearn-color-text-muted: #666;\n",
       "  --sklearn-color-line: gray;\n",
       "  /* Definition of color scheme for unfitted estimators */\n",
       "  --sklearn-color-unfitted-level-0: #fff5e6;\n",
       "  --sklearn-color-unfitted-level-1: #f6e4d2;\n",
       "  --sklearn-color-unfitted-level-2: #ffe0b3;\n",
       "  --sklearn-color-unfitted-level-3: chocolate;\n",
       "  /* Definition of color scheme for fitted estimators */\n",
       "  --sklearn-color-fitted-level-0: #f0f8ff;\n",
       "  --sklearn-color-fitted-level-1: #d4ebff;\n",
       "  --sklearn-color-fitted-level-2: #b3dbfd;\n",
       "  --sklearn-color-fitted-level-3: cornflowerblue;\n",
       "\n",
       "  /* Specific color for light theme */\n",
       "  --sklearn-color-text-on-default-background: var(--sg-text-color, var(--theme-code-foreground, var(--jp-content-font-color1, black)));\n",
       "  --sklearn-color-background: var(--sg-background-color, var(--theme-background, var(--jp-layout-color0, white)));\n",
       "  --sklearn-color-border-box: var(--sg-text-color, var(--theme-code-foreground, var(--jp-content-font-color1, black)));\n",
       "  --sklearn-color-icon: #696969;\n",
       "\n",
       "  @media (prefers-color-scheme: dark) {\n",
       "    /* Redefinition of color scheme for dark theme */\n",
       "    --sklearn-color-text-on-default-background: var(--sg-text-color, var(--theme-code-foreground, var(--jp-content-font-color1, white)));\n",
       "    --sklearn-color-background: var(--sg-background-color, var(--theme-background, var(--jp-layout-color0, #111)));\n",
       "    --sklearn-color-border-box: var(--sg-text-color, var(--theme-code-foreground, var(--jp-content-font-color1, white)));\n",
       "    --sklearn-color-icon: #878787;\n",
       "  }\n",
       "}\n",
       "\n",
       "#sk-container-id-1 {\n",
       "  color: var(--sklearn-color-text);\n",
       "}\n",
       "\n",
       "#sk-container-id-1 pre {\n",
       "  padding: 0;\n",
       "}\n",
       "\n",
       "#sk-container-id-1 input.sk-hidden--visually {\n",
       "  border: 0;\n",
       "  clip: rect(1px 1px 1px 1px);\n",
       "  clip: rect(1px, 1px, 1px, 1px);\n",
       "  height: 1px;\n",
       "  margin: -1px;\n",
       "  overflow: hidden;\n",
       "  padding: 0;\n",
       "  position: absolute;\n",
       "  width: 1px;\n",
       "}\n",
       "\n",
       "#sk-container-id-1 div.sk-dashed-wrapped {\n",
       "  border: 1px dashed var(--sklearn-color-line);\n",
       "  margin: 0 0.4em 0.5em 0.4em;\n",
       "  box-sizing: border-box;\n",
       "  padding-bottom: 0.4em;\n",
       "  background-color: var(--sklearn-color-background);\n",
       "}\n",
       "\n",
       "#sk-container-id-1 div.sk-container {\n",
       "  /* jupyter's `normalize.less` sets `[hidden] { display: none; }`\n",
       "     but bootstrap.min.css set `[hidden] { display: none !important; }`\n",
       "     so we also need the `!important` here to be able to override the\n",
       "     default hidden behavior on the sphinx rendered scikit-learn.org.\n",
       "     See: https://github.com/scikit-learn/scikit-learn/issues/21755 */\n",
       "  display: inline-block !important;\n",
       "  position: relative;\n",
       "}\n",
       "\n",
       "#sk-container-id-1 div.sk-text-repr-fallback {\n",
       "  display: none;\n",
       "}\n",
       "\n",
       "div.sk-parallel-item,\n",
       "div.sk-serial,\n",
       "div.sk-item {\n",
       "  /* draw centered vertical line to link estimators */\n",
       "  background-image: linear-gradient(var(--sklearn-color-text-on-default-background), var(--sklearn-color-text-on-default-background));\n",
       "  background-size: 2px 100%;\n",
       "  background-repeat: no-repeat;\n",
       "  background-position: center center;\n",
       "}\n",
       "\n",
       "/* Parallel-specific style estimator block */\n",
       "\n",
       "#sk-container-id-1 div.sk-parallel-item::after {\n",
       "  content: \"\";\n",
       "  width: 100%;\n",
       "  border-bottom: 2px solid var(--sklearn-color-text-on-default-background);\n",
       "  flex-grow: 1;\n",
       "}\n",
       "\n",
       "#sk-container-id-1 div.sk-parallel {\n",
       "  display: flex;\n",
       "  align-items: stretch;\n",
       "  justify-content: center;\n",
       "  background-color: var(--sklearn-color-background);\n",
       "  position: relative;\n",
       "}\n",
       "\n",
       "#sk-container-id-1 div.sk-parallel-item {\n",
       "  display: flex;\n",
       "  flex-direction: column;\n",
       "}\n",
       "\n",
       "#sk-container-id-1 div.sk-parallel-item:first-child::after {\n",
       "  align-self: flex-end;\n",
       "  width: 50%;\n",
       "}\n",
       "\n",
       "#sk-container-id-1 div.sk-parallel-item:last-child::after {\n",
       "  align-self: flex-start;\n",
       "  width: 50%;\n",
       "}\n",
       "\n",
       "#sk-container-id-1 div.sk-parallel-item:only-child::after {\n",
       "  width: 0;\n",
       "}\n",
       "\n",
       "/* Serial-specific style estimator block */\n",
       "\n",
       "#sk-container-id-1 div.sk-serial {\n",
       "  display: flex;\n",
       "  flex-direction: column;\n",
       "  align-items: center;\n",
       "  background-color: var(--sklearn-color-background);\n",
       "  padding-right: 1em;\n",
       "  padding-left: 1em;\n",
       "}\n",
       "\n",
       "\n",
       "/* Toggleable style: style used for estimator/Pipeline/ColumnTransformer box that is\n",
       "clickable and can be expanded/collapsed.\n",
       "- Pipeline and ColumnTransformer use this feature and define the default style\n",
       "- Estimators will overwrite some part of the style using the `sk-estimator` class\n",
       "*/\n",
       "\n",
       "/* Pipeline and ColumnTransformer style (default) */\n",
       "\n",
       "#sk-container-id-1 div.sk-toggleable {\n",
       "  /* Default theme specific background. It is overwritten whether we have a\n",
       "  specific estimator or a Pipeline/ColumnTransformer */\n",
       "  background-color: var(--sklearn-color-background);\n",
       "}\n",
       "\n",
       "/* Toggleable label */\n",
       "#sk-container-id-1 label.sk-toggleable__label {\n",
       "  cursor: pointer;\n",
       "  display: flex;\n",
       "  width: 100%;\n",
       "  margin-bottom: 0;\n",
       "  padding: 0.5em;\n",
       "  box-sizing: border-box;\n",
       "  text-align: center;\n",
       "  align-items: start;\n",
       "  justify-content: space-between;\n",
       "  gap: 0.5em;\n",
       "}\n",
       "\n",
       "#sk-container-id-1 label.sk-toggleable__label .caption {\n",
       "  font-size: 0.6rem;\n",
       "  font-weight: lighter;\n",
       "  color: var(--sklearn-color-text-muted);\n",
       "}\n",
       "\n",
       "#sk-container-id-1 label.sk-toggleable__label-arrow:before {\n",
       "  /* Arrow on the left of the label */\n",
       "  content: \"▸\";\n",
       "  float: left;\n",
       "  margin-right: 0.25em;\n",
       "  color: var(--sklearn-color-icon);\n",
       "}\n",
       "\n",
       "#sk-container-id-1 label.sk-toggleable__label-arrow:hover:before {\n",
       "  color: var(--sklearn-color-text);\n",
       "}\n",
       "\n",
       "/* Toggleable content - dropdown */\n",
       "\n",
       "#sk-container-id-1 div.sk-toggleable__content {\n",
       "  max-height: 0;\n",
       "  max-width: 0;\n",
       "  overflow: hidden;\n",
       "  text-align: left;\n",
       "  /* unfitted */\n",
       "  background-color: var(--sklearn-color-unfitted-level-0);\n",
       "}\n",
       "\n",
       "#sk-container-id-1 div.sk-toggleable__content.fitted {\n",
       "  /* fitted */\n",
       "  background-color: var(--sklearn-color-fitted-level-0);\n",
       "}\n",
       "\n",
       "#sk-container-id-1 div.sk-toggleable__content pre {\n",
       "  margin: 0.2em;\n",
       "  border-radius: 0.25em;\n",
       "  color: var(--sklearn-color-text);\n",
       "  /* unfitted */\n",
       "  background-color: var(--sklearn-color-unfitted-level-0);\n",
       "}\n",
       "\n",
       "#sk-container-id-1 div.sk-toggleable__content.fitted pre {\n",
       "  /* unfitted */\n",
       "  background-color: var(--sklearn-color-fitted-level-0);\n",
       "}\n",
       "\n",
       "#sk-container-id-1 input.sk-toggleable__control:checked~div.sk-toggleable__content {\n",
       "  /* Expand drop-down */\n",
       "  max-height: 200px;\n",
       "  max-width: 100%;\n",
       "  overflow: auto;\n",
       "}\n",
       "\n",
       "#sk-container-id-1 input.sk-toggleable__control:checked~label.sk-toggleable__label-arrow:before {\n",
       "  content: \"▾\";\n",
       "}\n",
       "\n",
       "/* Pipeline/ColumnTransformer-specific style */\n",
       "\n",
       "#sk-container-id-1 div.sk-label input.sk-toggleable__control:checked~label.sk-toggleable__label {\n",
       "  color: var(--sklearn-color-text);\n",
       "  background-color: var(--sklearn-color-unfitted-level-2);\n",
       "}\n",
       "\n",
       "#sk-container-id-1 div.sk-label.fitted input.sk-toggleable__control:checked~label.sk-toggleable__label {\n",
       "  background-color: var(--sklearn-color-fitted-level-2);\n",
       "}\n",
       "\n",
       "/* Estimator-specific style */\n",
       "\n",
       "/* Colorize estimator box */\n",
       "#sk-container-id-1 div.sk-estimator input.sk-toggleable__control:checked~label.sk-toggleable__label {\n",
       "  /* unfitted */\n",
       "  background-color: var(--sklearn-color-unfitted-level-2);\n",
       "}\n",
       "\n",
       "#sk-container-id-1 div.sk-estimator.fitted input.sk-toggleable__control:checked~label.sk-toggleable__label {\n",
       "  /* fitted */\n",
       "  background-color: var(--sklearn-color-fitted-level-2);\n",
       "}\n",
       "\n",
       "#sk-container-id-1 div.sk-label label.sk-toggleable__label,\n",
       "#sk-container-id-1 div.sk-label label {\n",
       "  /* The background is the default theme color */\n",
       "  color: var(--sklearn-color-text-on-default-background);\n",
       "}\n",
       "\n",
       "/* On hover, darken the color of the background */\n",
       "#sk-container-id-1 div.sk-label:hover label.sk-toggleable__label {\n",
       "  color: var(--sklearn-color-text);\n",
       "  background-color: var(--sklearn-color-unfitted-level-2);\n",
       "}\n",
       "\n",
       "/* Label box, darken color on hover, fitted */\n",
       "#sk-container-id-1 div.sk-label.fitted:hover label.sk-toggleable__label.fitted {\n",
       "  color: var(--sklearn-color-text);\n",
       "  background-color: var(--sklearn-color-fitted-level-2);\n",
       "}\n",
       "\n",
       "/* Estimator label */\n",
       "\n",
       "#sk-container-id-1 div.sk-label label {\n",
       "  font-family: monospace;\n",
       "  font-weight: bold;\n",
       "  display: inline-block;\n",
       "  line-height: 1.2em;\n",
       "}\n",
       "\n",
       "#sk-container-id-1 div.sk-label-container {\n",
       "  text-align: center;\n",
       "}\n",
       "\n",
       "/* Estimator-specific */\n",
       "#sk-container-id-1 div.sk-estimator {\n",
       "  font-family: monospace;\n",
       "  border: 1px dotted var(--sklearn-color-border-box);\n",
       "  border-radius: 0.25em;\n",
       "  box-sizing: border-box;\n",
       "  margin-bottom: 0.5em;\n",
       "  /* unfitted */\n",
       "  background-color: var(--sklearn-color-unfitted-level-0);\n",
       "}\n",
       "\n",
       "#sk-container-id-1 div.sk-estimator.fitted {\n",
       "  /* fitted */\n",
       "  background-color: var(--sklearn-color-fitted-level-0);\n",
       "}\n",
       "\n",
       "/* on hover */\n",
       "#sk-container-id-1 div.sk-estimator:hover {\n",
       "  /* unfitted */\n",
       "  background-color: var(--sklearn-color-unfitted-level-2);\n",
       "}\n",
       "\n",
       "#sk-container-id-1 div.sk-estimator.fitted:hover {\n",
       "  /* fitted */\n",
       "  background-color: var(--sklearn-color-fitted-level-2);\n",
       "}\n",
       "\n",
       "/* Specification for estimator info (e.g. \"i\" and \"?\") */\n",
       "\n",
       "/* Common style for \"i\" and \"?\" */\n",
       "\n",
       ".sk-estimator-doc-link,\n",
       "a:link.sk-estimator-doc-link,\n",
       "a:visited.sk-estimator-doc-link {\n",
       "  float: right;\n",
       "  font-size: smaller;\n",
       "  line-height: 1em;\n",
       "  font-family: monospace;\n",
       "  background-color: var(--sklearn-color-background);\n",
       "  border-radius: 1em;\n",
       "  height: 1em;\n",
       "  width: 1em;\n",
       "  text-decoration: none !important;\n",
       "  margin-left: 0.5em;\n",
       "  text-align: center;\n",
       "  /* unfitted */\n",
       "  border: var(--sklearn-color-unfitted-level-1) 1pt solid;\n",
       "  color: var(--sklearn-color-unfitted-level-1);\n",
       "}\n",
       "\n",
       ".sk-estimator-doc-link.fitted,\n",
       "a:link.sk-estimator-doc-link.fitted,\n",
       "a:visited.sk-estimator-doc-link.fitted {\n",
       "  /* fitted */\n",
       "  border: var(--sklearn-color-fitted-level-1) 1pt solid;\n",
       "  color: var(--sklearn-color-fitted-level-1);\n",
       "}\n",
       "\n",
       "/* On hover */\n",
       "div.sk-estimator:hover .sk-estimator-doc-link:hover,\n",
       ".sk-estimator-doc-link:hover,\n",
       "div.sk-label-container:hover .sk-estimator-doc-link:hover,\n",
       ".sk-estimator-doc-link:hover {\n",
       "  /* unfitted */\n",
       "  background-color: var(--sklearn-color-unfitted-level-3);\n",
       "  color: var(--sklearn-color-background);\n",
       "  text-decoration: none;\n",
       "}\n",
       "\n",
       "div.sk-estimator.fitted:hover .sk-estimator-doc-link.fitted:hover,\n",
       ".sk-estimator-doc-link.fitted:hover,\n",
       "div.sk-label-container:hover .sk-estimator-doc-link.fitted:hover,\n",
       ".sk-estimator-doc-link.fitted:hover {\n",
       "  /* fitted */\n",
       "  background-color: var(--sklearn-color-fitted-level-3);\n",
       "  color: var(--sklearn-color-background);\n",
       "  text-decoration: none;\n",
       "}\n",
       "\n",
       "/* Span, style for the box shown on hovering the info icon */\n",
       ".sk-estimator-doc-link span {\n",
       "  display: none;\n",
       "  z-index: 9999;\n",
       "  position: relative;\n",
       "  font-weight: normal;\n",
       "  right: .2ex;\n",
       "  padding: .5ex;\n",
       "  margin: .5ex;\n",
       "  width: min-content;\n",
       "  min-width: 20ex;\n",
       "  max-width: 50ex;\n",
       "  color: var(--sklearn-color-text);\n",
       "  box-shadow: 2pt 2pt 4pt #999;\n",
       "  /* unfitted */\n",
       "  background: var(--sklearn-color-unfitted-level-0);\n",
       "  border: .5pt solid var(--sklearn-color-unfitted-level-3);\n",
       "}\n",
       "\n",
       ".sk-estimator-doc-link.fitted span {\n",
       "  /* fitted */\n",
       "  background: var(--sklearn-color-fitted-level-0);\n",
       "  border: var(--sklearn-color-fitted-level-3);\n",
       "}\n",
       "\n",
       ".sk-estimator-doc-link:hover span {\n",
       "  display: block;\n",
       "}\n",
       "\n",
       "/* \"?\"-specific style due to the `<a>` HTML tag */\n",
       "\n",
       "#sk-container-id-1 a.estimator_doc_link {\n",
       "  float: right;\n",
       "  font-size: 1rem;\n",
       "  line-height: 1em;\n",
       "  font-family: monospace;\n",
       "  background-color: var(--sklearn-color-background);\n",
       "  border-radius: 1rem;\n",
       "  height: 1rem;\n",
       "  width: 1rem;\n",
       "  text-decoration: none;\n",
       "  /* unfitted */\n",
       "  color: var(--sklearn-color-unfitted-level-1);\n",
       "  border: var(--sklearn-color-unfitted-level-1) 1pt solid;\n",
       "}\n",
       "\n",
       "#sk-container-id-1 a.estimator_doc_link.fitted {\n",
       "  /* fitted */\n",
       "  border: var(--sklearn-color-fitted-level-1) 1pt solid;\n",
       "  color: var(--sklearn-color-fitted-level-1);\n",
       "}\n",
       "\n",
       "/* On hover */\n",
       "#sk-container-id-1 a.estimator_doc_link:hover {\n",
       "  /* unfitted */\n",
       "  background-color: var(--sklearn-color-unfitted-level-3);\n",
       "  color: var(--sklearn-color-background);\n",
       "  text-decoration: none;\n",
       "}\n",
       "\n",
       "#sk-container-id-1 a.estimator_doc_link.fitted:hover {\n",
       "  /* fitted */\n",
       "  background-color: var(--sklearn-color-fitted-level-3);\n",
       "}\n",
       "</style><div id=\"sk-container-id-1\" class=\"sk-top-container\"><div class=\"sk-text-repr-fallback\"><pre>LogisticRegression()</pre><b>In a Jupyter environment, please rerun this cell to show the HTML representation or trust the notebook. <br />On GitHub, the HTML representation is unable to render, please try loading this page with nbviewer.org.</b></div><div class=\"sk-container\" hidden><div class=\"sk-item\"><div class=\"sk-estimator fitted sk-toggleable\"><input class=\"sk-toggleable__control sk-hidden--visually\" id=\"sk-estimator-id-1\" type=\"checkbox\" checked><label for=\"sk-estimator-id-1\" class=\"sk-toggleable__label fitted sk-toggleable__label-arrow\"><div><div>LogisticRegression</div></div><div><a class=\"sk-estimator-doc-link fitted\" rel=\"noreferrer\" target=\"_blank\" href=\"https://scikit-learn.org/1.6/modules/generated/sklearn.linear_model.LogisticRegression.html\">?<span>Documentation for LogisticRegression</span></a><span class=\"sk-estimator-doc-link fitted\">i<span>Fitted</span></span></div></label><div class=\"sk-toggleable__content fitted\"><pre>LogisticRegression()</pre></div> </div></div></div></div>"
      ],
      "text/plain": [
       "LogisticRegression()"
      ]
     },
     "execution_count": 39,
     "metadata": {},
     "output_type": "execute_result"
    }
   ],
   "source": [
    "# Create and fit the logistic regression model here:\n",
    "from sklearn.linear_model import LogisticRegression\n",
    "cc_lr = LogisticRegression()\n",
    "cc_lr.fit(X_train,y_train)"
   ]
  },
  {
   "cell_type": "markdown",
   "metadata": {},
   "source": [
    "# Evaluating the Model\n",
    "\n",
    "Now that we have generated a model, let us look at how good it is using some of sklearn's built-in evaluation functions"
   ]
  },
  {
   "cell_type": "markdown",
   "metadata": {},
   "source": [
    "## Confusion Matrix"
   ]
  },
  {
   "cell_type": "code",
   "execution_count": 40,
   "metadata": {},
   "outputs": [
    {
     "name": "stdout",
     "output_type": "stream",
     "text": [
      "7473\n",
      "[[   3   97]\n",
      " [   0 7373]]\n"
     ]
    }
   ],
   "source": [
    "from sklearn.metrics import confusion_matrix\n",
    "\n",
    "y_pred = cc_lr.predict(X_test)\n",
    "\n",
    "print(len(y_pred))\n",
    "print(confusion_matrix(y_test, y_pred))"
   ]
  },
  {
   "cell_type": "markdown",
   "metadata": {},
   "source": [
    "Based on this confusion matrix, only 97 out of 7473 values were incorrect, and all were false positives."
   ]
  },
  {
   "cell_type": "markdown",
   "metadata": {},
   "source": [
    "## Accuracy, Precision, Recall, and F1 Score"
   ]
  },
  {
   "cell_type": "code",
   "execution_count": 41,
   "metadata": {},
   "outputs": [
    {
     "name": "stdout",
     "output_type": "stream",
     "text": [
      "Accuracy:  0.987019938445069\n",
      "Precision:  0.9870147255689424\n",
      "Recall:  1.0\n",
      "F1 Score:  0.993464932965034\n"
     ]
    }
   ],
   "source": [
    "from sklearn.metrics import accuracy_score, precision_score, recall_score, f1_score\n",
    "print(\"Accuracy: \", accuracy_score(y_test, y_pred))\n",
    "\n",
    "print(\"Precision: \", precision_score(y_test, y_pred))\n",
    "\n",
    "print(\"Recall: \", recall_score(y_test, y_pred))\n",
    "\n",
    "print(\"F1 Score: \", f1_score(y_test, y_pred))"
   ]
  },
  {
   "cell_type": "markdown",
   "metadata": {},
   "source": [
    "This model looks pretty good! Accuracy, Precision, Recall, and the F1 Score are all above 98%. We even have a perfect recall, but given the low number of users we know that do not like dogs, the model's recall may not have been tested thoroughly enough."
   ]
  },
  {
   "cell_type": "markdown",
   "metadata": {},
   "source": [
    "# Conclusion\n",
    "\n",
    "I learned a lot about data processing from going through this dataset. OKCupid really likes to combine multiple pieces of information together into a single column. Religious identity and religiosity do make sense to go together, but they can have different effects on user prediction.\n",
    "\n",
    "Multiple columns also had multiple values that did fit along a nice scale, but they would sometimes be mixed with values that did not. For example, the \"smokes\" column, representing whether the user smokes, had the values \"no\", \"sometimes\", and \"yes\", but it also had the value \"trying to quit\", which could align with \"sometimes\" or \"yes\".\n",
    "\n",
    "Given the sheer number of variables used to make this model, it makes sense that the accuracy, precision, recall, and F1 scores were so high (> 98% each), but with only 1.5% of the data being negative, these scores cannot be trusted too much.\n",
    "\n",
    "To better ascertain whether someone likes dogs or not, we need more data on users who do not like dogs."
   ]
  }
 ],
 "metadata": {
  "kernelspec": {
   "display_name": "Python [conda env:base] *",
   "language": "python",
   "name": "conda-base-py"
  },
  "language_info": {
   "codemirror_mode": {
    "name": "ipython",
    "version": 3
   },
   "file_extension": ".py",
   "mimetype": "text/x-python",
   "name": "python",
   "nbconvert_exporter": "python",
   "pygments_lexer": "ipython3",
   "version": "3.13.5"
  }
 },
 "nbformat": 4,
 "nbformat_minor": 4
}
